{
 "cells": [
  {
   "cell_type": "markdown",
   "id": "7c7dd56c",
   "metadata": {},
   "source": [
    "## Boston Dataset"
   ]
  },
  {
   "cell_type": "code",
   "execution_count": 6,
   "id": "29260d3b",
   "metadata": {},
   "outputs": [],
   "source": [
    "from torch.utils.data import random_split\n",
    "import pandas as pd\n",
    "import torch\n",
    "from torch.utils.data import Dataset\n",
    "\n",
    "import warnings\n",
    "warnings.filterwarnings('ignore')"
   ]
  },
  {
   "cell_type": "code",
   "execution_count": 2,
   "id": "9cdd6739",
   "metadata": {},
   "outputs": [],
   "source": [
    "class StandardScaler:\n",
    "\n",
    "    def __init__(self, mean=None, std=None, epsilon=1e-7):\n",
    "        \"\"\"Standard Scaler.\n",
    "        The class can be used to normalize PyTorch Tensors using native functions. The module does not expect the\n",
    "        tensors to be of any specific shape; as long as the features are the last dimension in the tensor, the module\n",
    "        will work fine.\n",
    "        :param mean: The mean of the features. The property will be set after a call to fit.\n",
    "        :param std: The standard deviation of the features. The property will be set after a call to fit.\n",
    "        :param epsilon: Used to avoid a Division-By-Zero exception.\n",
    "        \"\"\"\n",
    "        self.mean = mean\n",
    "        self.std = std\n",
    "        self.epsilon = epsilon\n",
    "\n",
    "    def fit(self, values):\n",
    "        dims = list(range(values.dim() - 1))\n",
    "        self.mean = torch.mean(values, dim=dims)\n",
    "        self.std = torch.std(values, dim=dims)\n",
    "        \n",
    "\n",
    "    def transform(self, values):\n",
    "        return (values - self.mean) / (self.std + self.epsilon)\n",
    "\n",
    "    def fit_transform(self, values):\n",
    "        self.fit(values)\n",
    "        return self.transform(values)"
   ]
  },
  {
   "cell_type": "code",
   "execution_count": 3,
   "id": "902c8d1c",
   "metadata": {},
   "outputs": [],
   "source": [
    "class BostonDataset(Dataset):\n",
    "  \n",
    "  def __init__(self, src_file, root_dir, transform=None):\n",
    "    bostonDataset = pd.read_csv(src_file, delim_whitespace=True,names=['CRIM', 'ZN', 'INDUS', 'CHAS', 'NOX', 'RM', 'AGE', 'DIS', 'RAD', 'TAX', 'PTRATIO', 'B', 'LSTAT', 'MEDV'])\n",
    "    X = bostonDataset.loc[:, ~bostonDataset.columns.isin(['MEDV'])]\n",
    "    Y = bostonDataset[[\"MEDV\"]]\n",
    "    \n",
    "    y_tensor = torch.tensor(Y.values)\n",
    "    \n",
    "    y_tensor = torch.tensor(Y.values).type(torch.float32)\n",
    "    \n",
    "    df_dict = dict.fromkeys(X.columns, '')\n",
    "    \n",
    "    X.rename(columns = df_dict)\n",
    "    \n",
    "    s1=X.iloc[:,0:13].values\n",
    "    \n",
    "    x_tensor = torch.tensor(s1)\n",
    "    \n",
    "    scaler = StandardScaler()\n",
    "    XScalada = scaler.fit_transform(x_tensor).type(torch.float32)\n",
    "    YScalada = scaler.fit_transform(y_tensor).type(torch.float32)\n",
    "    self.data = torch.cat((XScalada,YScalada),1)\n",
    "    self.root_dir = root_dir\n",
    "    self.transform = transform\n",
    "    \n",
    "  def __len__(self):\n",
    "    return len(self.data)\n",
    "\n",
    "  def __getitem__(self, idx):\n",
    "    if torch.is_tensor(idx):\n",
    "      idx = idx.tolist()\n",
    "    preds = self.data[idx, 0:13]\n",
    "    spcs = self.data[idx, 13:]\n",
    "    sample = (preds, spcs)\n",
    "    if self.transform:\n",
    "      sample = self.transform(sample)\n",
    "    return sample "
   ]
  },
  {
   "cell_type": "code",
   "execution_count": 4,
   "id": "f657a3ed",
   "metadata": {},
   "outputs": [
    {
     "data": {
      "text/plain": [
       "(tensor([-0.4194,  0.2845, -1.2866, -0.2723, -0.1441,  0.4133, -0.1199,  0.1401,\n",
       "         -0.9819, -0.6659, -1.4576,  0.4406, -1.0745]),\n",
       " tensor([0.1595]))"
      ]
     },
     "metadata": {},
     "output_type": "display_data"
    }
   ],
   "source": [
    "# Cargamos los datos y comprobamos que tenemos salida de datos\n",
    "dataset = BostonDataset(\"data/housing.csv\",\".\")\n",
    "display(dataset[0])"
   ]
  },
  {
   "cell_type": "markdown",
   "id": "ae399b93",
   "metadata": {},
   "source": [
    "### División de Train y test"
   ]
  },
  {
   "cell_type": "code",
   "execution_count": 7,
   "id": "a1cac569",
   "metadata": {},
   "outputs": [
    {
     "name": "stdout",
     "output_type": "stream",
     "text": [
      "Tam dataset: 506 train: 404 tamVal: 102\n"
     ]
    }
   ],
   "source": [
    "from torch.utils.data import random_split\n",
    "\n",
    "lonxitudeDataset = len(dataset)\n",
    "tamTrain =int(lonxitudeDataset*0.8)\n",
    "tamVal = lonxitudeDataset - tamTrain\n",
    "print(f\"Tam dataset: {lonxitudeDataset} train: {tamTrain} tamVal: {tamVal}\")\n",
    "train_set, val_set = random_split(dataset,[tamTrain,tamVal])\n",
    "train_ldr = torch.utils.data.DataLoader(train_set, batch_size=2,\n",
    "    shuffle=True, drop_last=False)\n",
    "validation_loader =torch.utils.data.DataLoader(val_set, batch_size=4, shuffle=False, num_workers=2)"
   ]
  },
  {
   "cell_type": "markdown",
   "id": "4e941fc0",
   "metadata": {},
   "source": [
    "### Creación del Modelo"
   ]
  },
  {
   "cell_type": "code",
   "execution_count": 8,
   "id": "7254f3e1",
   "metadata": {},
   "outputs": [],
   "source": [
    "import torch.nn.functional as F\n",
    "import torch.nn as nn\n",
    "\n",
    "class Model(nn.Module):\n",
    "    def __init__(self, entradas):\n",
    "        super(Model, self).__init__()\n",
    "        self.layer1 = nn.Linear(entradas, 100)\n",
    "        self.layer2 = nn.Linear(100, 50)\n",
    "        self.layer3 = nn.Linear(in_features=50, out_features=1)\n",
    "    \n",
    "    def forward(self, x):\n",
    "        x = F.relu(self.layer1(x))\n",
    "        x = F.relu(self.layer2(x))\n",
    "        x = self.layer3(x)\n",
    "        return x"
   ]
  },
  {
   "cell_type": "markdown",
   "id": "46a7202f",
   "metadata": {},
   "source": [
    "### Instanciamos el modelo"
   ]
  },
  {
   "cell_type": "code",
   "execution_count": 9,
   "id": "3126b0f7",
   "metadata": {},
   "outputs": [
    {
     "data": {
      "text/plain": [
       "Model(\n",
       "  (layer1): Linear(in_features=13, out_features=100, bias=True)\n",
       "  (layer2): Linear(in_features=100, out_features=50, bias=True)\n",
       "  (layer3): Linear(in_features=50, out_features=1, bias=True)\n",
       ")"
      ]
     },
     "metadata": {},
     "output_type": "display_data"
    }
   ],
   "source": [
    "model     = Model(13)\n",
    "optimizer = torch.optim.Adam(model.parameters(), lr=0.01)\n",
    "loss_fn   = nn.MSELoss(reduction='sum')\n",
    "display(model)"
   ]
  },
  {
   "cell_type": "markdown",
   "id": "fdbbae45",
   "metadata": {},
   "source": [
    "### Prueba de una iteración de entrenamiento"
   ]
  },
  {
   "cell_type": "code",
   "execution_count": 10,
   "id": "324736cd",
   "metadata": {},
   "outputs": [
    {
     "name": "stdout",
     "output_type": "stream",
     "text": [
      "Entrada:\n"
     ]
    },
    {
     "data": {
      "text/plain": [
       "tensor([[-0.4038,  0.4561, -0.7692, -0.2723, -1.0675,  0.2880, -1.9743,  1.7104,\n",
       "         -0.2928, -0.4642,  0.2977,  0.4338, -0.9457],\n",
       "        [ 0.6656, -0.4872,  1.0150, -0.2723,  1.0727,  0.1357,  0.9601, -0.8676,\n",
       "          1.6596,  1.5294,  0.8058, -3.2417,  1.6002]])"
      ]
     },
     "metadata": {},
     "output_type": "display_data"
    },
    {
     "name": "stdout",
     "output_type": "stream",
     "text": [
      "Desexada:\n"
     ]
    },
    {
     "data": {
      "text/plain": [
       "tensor([[ 0.2030],\n",
       "        [-1.4171]])"
      ]
     },
     "metadata": {},
     "output_type": "display_data"
    },
    {
     "name": "stdout",
     "output_type": "stream",
     "text": [
      "Saída:\n"
     ]
    },
    {
     "data": {
      "text/plain": [
       "tensor([[0.0999],\n",
       "        [0.1636]], grad_fn=<AddmmBackward0>)"
      ]
     },
     "metadata": {},
     "output_type": "display_data"
    },
    {
     "data": {
      "text/plain": [
       "tensor(2.5090, grad_fn=<MseLossBackward0>)"
      ]
     },
     "execution_count": 10,
     "metadata": {},
     "output_type": "execute_result"
    }
   ],
   "source": [
    "entradaProba,dest = next(iter(train_ldr))\n",
    "print(\"Entrada:\")\n",
    "display(entradaProba)\n",
    "print(\"Desexada:\")\n",
    "display(dest)\n",
    "saida = model(entradaProba) \n",
    "print(\"Saída:\")\n",
    "display(saida)\n",
    "loss_fn(saida, dest)"
   ]
  },
  {
   "cell_type": "markdown",
   "id": "1aee7fbb",
   "metadata": {},
   "source": [
    "### Función de Entrenamiento"
   ]
  },
  {
   "cell_type": "code",
   "execution_count": 11,
   "id": "409d2671",
   "metadata": {},
   "outputs": [],
   "source": [
    "def train_one_epoch(epoch_index, tb_writer):\n",
    "    running_loss = 0.\n",
    "    # Here, we use enumerate(train_ldr) instead of\n",
    "    # iter(train_ldr) so that we can track the batch\n",
    "    # index and do some intra-epoch reporting\n",
    "    for i, data in enumerate(train_ldr):\n",
    "        # Every data instance is an input + label pair\n",
    "        inputs, labels = data\n",
    "\n",
    "        # Zero your gradients for every batch!\n",
    "        optimizer.zero_grad()\n",
    "\n",
    "        # Make predictions for this batch\n",
    "        outputs = model(inputs)\n",
    "\n",
    "        # Compute the loss and its gradients\n",
    "        loss = loss_fn(outputs, labels)\n",
    "        loss.backward()\n",
    "\n",
    "        # Adjust learning weights\n",
    "        optimizer.step()\n",
    "\n",
    "        # Gather data and report\n",
    "        running_loss += loss.item()\n",
    "\n",
    "    return running_loss / len(train_ldr)\n",
    "\n"
   ]
  },
  {
   "cell_type": "code",
   "execution_count": 13,
   "id": "56eec695",
   "metadata": {},
   "outputs": [],
   "source": [
    "from torchmetrics import MeanSquaredError, MeanAbsoluteError, R2Score\n",
    "from torch.utils.tensorboard import SummaryWriter"
   ]
  },
  {
   "cell_type": "code",
   "execution_count": 17,
   "id": "61503d4e",
   "metadata": {},
   "outputs": [],
   "source": [
    "EPOCHS = 100\n",
    "writer = None\n",
    "tb = SummaryWriter()\n",
    "\n",
    "for epoch in range(EPOCHS):\n",
    "    # Make sure gradient tracking is on, and do a pass over the data\n",
    "    model.train(True)\n",
    "    avg_loss = train_one_epoch(epoch, tb)\n",
    "    model.train(False)\n",
    "    \n",
    "    # Implementamos la métrica\n",
    "    mean_squared_error = MeanSquaredError()\n",
    "    mean_absolute_error = MeanAbsoluteError()\n",
    "    r2Score = R2Score()\n",
    "    model.train(False)\n",
    "    with torch.no_grad():\n",
    "        for entradas, saidas in validation_loader:\n",
    "            voutputs = model(entradas)\n",
    "            mean_squared_error(voutputs,saidas)\n",
    "            mean_absolute_error(voutputs,saidas)\n",
    "            r2Score(voutputs,saidas)\n",
    "    errorMedio = mean_squared_error.compute()\n",
    "    errorAbsolute =mean_absolute_error.compute()\n",
    "    r2 = r2Score.compute()\n",
    "    \n",
    "    ## Impresión en pantalla si no se quiere implementar tensorboard\n",
    "    #print(f\"MSE: {errorMedio}\")\n",
    "    #print(f\"MAE: {errorAbsolute}\")\n",
    "    #print(f\"R^2: {r2}\")\n",
    "    \n",
    "    # Implementamos tensorboard\n",
    "    tb.add_scalar(\"MSE/train\", errorMedio,epoch)\n",
    "    tb.add_scalar(\"MAE/train\", errorAbsolute,epoch)\n",
    "    tb.add_scalar(\"R^2/train\", r2,epoch)"
   ]
  },
  {
   "cell_type": "markdown",
   "id": "1810c418",
   "metadata": {},
   "source": [
    "#### Nota: Tras ejecutar la última parte se crea en la ruta, la carpeta \"runs\", se ejecuta en la consola: \n",
    "\n",
    "### Para ver los gráficos:\n",
    "#### En la consola escribe: tensorboard --logdir runs/\n",
    "#### Nos dará una dirección http, en la que podemos visionar la ejecución del programa en tiempo real\n",
    "#### http://localhost:6006/"
   ]
  }
 ],
 "metadata": {
  "kernelspec": {
   "display_name": "Python 3 (ipykernel)",
   "language": "python",
   "name": "python3"
  },
  "language_info": {
   "codemirror_mode": {
    "name": "ipython",
    "version": 3
   },
   "file_extension": ".py",
   "mimetype": "text/x-python",
   "name": "python",
   "nbconvert_exporter": "python",
   "pygments_lexer": "ipython3",
   "version": "3.9.13"
  }
 },
 "nbformat": 4,
 "nbformat_minor": 5
}
